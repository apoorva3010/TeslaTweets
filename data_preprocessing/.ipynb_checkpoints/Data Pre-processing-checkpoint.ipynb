{
 "cells": [
  {
   "cell_type": "code",
   "execution_count": 100,
   "metadata": {},
   "outputs": [],
   "source": [
    "import pandas as pd\n",
    "import numpy as np\n",
    "import datetime as dt\n",
    "import re"
   ]
  },
  {
   "cell_type": "code",
   "execution_count": 87,
   "metadata": {},
   "outputs": [
    {
     "name": "stdout",
     "output_type": "stream",
     "text": [
      "Tesla shape: (1227, 7)\n",
      "Twitter shape: (3218, 5)\n"
     ]
    }
   ],
   "source": [
    "twitter = pd.read_csv('datasets/data_elonmusk.csv', encoding= 'unicode_escape')\n",
    "tesla = pd.read_csv('datasets/tsla_stock_price.csv')\n",
    "print(f\"Tesla shape: {tesla.shape}\")\n",
    "print(f\"Twitter shape: {twitter.shape}\")"
   ]
  },
  {
   "cell_type": "code",
   "execution_count": 88,
   "metadata": {},
   "outputs": [
    {
     "data": {
      "text/html": [
       "<div>\n",
       "<style scoped>\n",
       "    .dataframe tbody tr th:only-of-type {\n",
       "        vertical-align: middle;\n",
       "    }\n",
       "\n",
       "    .dataframe tbody tr th {\n",
       "        vertical-align: top;\n",
       "    }\n",
       "\n",
       "    .dataframe thead th {\n",
       "        text-align: right;\n",
       "    }\n",
       "</style>\n",
       "<table border=\"1\" class=\"dataframe\">\n",
       "  <thead>\n",
       "    <tr style=\"text-align: right;\">\n",
       "      <th></th>\n",
       "      <th>row ID</th>\n",
       "      <th>Tweet</th>\n",
       "      <th>Time</th>\n",
       "      <th>Retweet from</th>\n",
       "      <th>User</th>\n",
       "    </tr>\n",
       "  </thead>\n",
       "  <tbody>\n",
       "    <tr>\n",
       "      <th>0</th>\n",
       "      <td>Row0</td>\n",
       "      <td>@MeltingIce Assuming max acceleration of 2 to ...</td>\n",
       "      <td>2017-09-29 17:39:19</td>\n",
       "      <td>NaN</td>\n",
       "      <td>elonmusk</td>\n",
       "    </tr>\n",
       "    <tr>\n",
       "      <th>1</th>\n",
       "      <td>Row1</td>\n",
       "      <td>RT @SpaceX: BFR is capable of transporting sat...</td>\n",
       "      <td>2017-09-29 10:44:54</td>\n",
       "      <td>SpaceX</td>\n",
       "      <td>elonmusk</td>\n",
       "    </tr>\n",
       "    <tr>\n",
       "      <th>2</th>\n",
       "      <td>Row2</td>\n",
       "      <td>@bigajm Yup :)</td>\n",
       "      <td>2017-09-29 10:39:57</td>\n",
       "      <td>NaN</td>\n",
       "      <td>elonmusk</td>\n",
       "    </tr>\n",
       "    <tr>\n",
       "      <th>3</th>\n",
       "      <td>Row3</td>\n",
       "      <td>Part 2 https://t.co/8Fvu57muhM</td>\n",
       "      <td>2017-09-29 09:56:12</td>\n",
       "      <td>NaN</td>\n",
       "      <td>elonmusk</td>\n",
       "    </tr>\n",
       "    <tr>\n",
       "      <th>4</th>\n",
       "      <td>Row4</td>\n",
       "      <td>Fly to most places on Earth in under 30 mins a...</td>\n",
       "      <td>2017-09-29 09:19:21</td>\n",
       "      <td>NaN</td>\n",
       "      <td>elonmusk</td>\n",
       "    </tr>\n",
       "  </tbody>\n",
       "</table>\n",
       "</div>"
      ],
      "text/plain": [
       "  row ID                                              Tweet  \\\n",
       "0   Row0  @MeltingIce Assuming max acceleration of 2 to ...   \n",
       "1   Row1  RT @SpaceX: BFR is capable of transporting sat...   \n",
       "2   Row2                                     @bigajm Yup :)   \n",
       "3   Row3                     Part 2 https://t.co/8Fvu57muhM   \n",
       "4   Row4  Fly to most places on Earth in under 30 mins a...   \n",
       "\n",
       "                  Time Retweet from      User  \n",
       "0  2017-09-29 17:39:19          NaN  elonmusk  \n",
       "1  2017-09-29 10:44:54       SpaceX  elonmusk  \n",
       "2  2017-09-29 10:39:57          NaN  elonmusk  \n",
       "3  2017-09-29 09:56:12          NaN  elonmusk  \n",
       "4  2017-09-29 09:19:21          NaN  elonmusk  "
      ]
     },
     "execution_count": 88,
     "metadata": {},
     "output_type": "execute_result"
    }
   ],
   "source": [
    "twitter.head()"
   ]
  },
  {
   "cell_type": "code",
   "execution_count": 89,
   "metadata": {},
   "outputs": [
    {
     "data": {
      "text/html": [
       "<div>\n",
       "<style scoped>\n",
       "    .dataframe tbody tr th:only-of-type {\n",
       "        vertical-align: middle;\n",
       "    }\n",
       "\n",
       "    .dataframe tbody tr th {\n",
       "        vertical-align: top;\n",
       "    }\n",
       "\n",
       "    .dataframe thead th {\n",
       "        text-align: right;\n",
       "    }\n",
       "</style>\n",
       "<table border=\"1\" class=\"dataframe\">\n",
       "  <thead>\n",
       "    <tr style=\"text-align: right;\">\n",
       "      <th></th>\n",
       "      <th>Date</th>\n",
       "      <th>High</th>\n",
       "      <th>Low</th>\n",
       "      <th>Open</th>\n",
       "      <th>Close</th>\n",
       "      <th>Volume</th>\n",
       "      <th>Adj Close</th>\n",
       "    </tr>\n",
       "  </thead>\n",
       "  <tbody>\n",
       "    <tr>\n",
       "      <th>0</th>\n",
       "      <td>2012-11-15</td>\n",
       "      <td>31.440001</td>\n",
       "      <td>30.500000</td>\n",
       "      <td>31.299999</td>\n",
       "      <td>30.820000</td>\n",
       "      <td>984000</td>\n",
       "      <td>30.820000</td>\n",
       "    </tr>\n",
       "    <tr>\n",
       "      <th>1</th>\n",
       "      <td>2012-11-16</td>\n",
       "      <td>32.000000</td>\n",
       "      <td>30.590000</td>\n",
       "      <td>31.150000</td>\n",
       "      <td>31.840000</td>\n",
       "      <td>908700</td>\n",
       "      <td>31.840000</td>\n",
       "    </tr>\n",
       "    <tr>\n",
       "      <th>2</th>\n",
       "      <td>2012-11-19</td>\n",
       "      <td>33.250000</td>\n",
       "      <td>31.840000</td>\n",
       "      <td>32.070000</td>\n",
       "      <td>32.919998</td>\n",
       "      <td>1392400</td>\n",
       "      <td>32.919998</td>\n",
       "    </tr>\n",
       "    <tr>\n",
       "      <th>3</th>\n",
       "      <td>2012-11-20</td>\n",
       "      <td>33.099998</td>\n",
       "      <td>31.910000</td>\n",
       "      <td>32.799999</td>\n",
       "      <td>33.000000</td>\n",
       "      <td>922500</td>\n",
       "      <td>33.000000</td>\n",
       "    </tr>\n",
       "    <tr>\n",
       "      <th>4</th>\n",
       "      <td>2012-11-21</td>\n",
       "      <td>33.470001</td>\n",
       "      <td>32.290001</td>\n",
       "      <td>32.610001</td>\n",
       "      <td>32.470001</td>\n",
       "      <td>963200</td>\n",
       "      <td>32.470001</td>\n",
       "    </tr>\n",
       "  </tbody>\n",
       "</table>\n",
       "</div>"
      ],
      "text/plain": [
       "         Date       High        Low       Open      Close   Volume  Adj Close\n",
       "0  2012-11-15  31.440001  30.500000  31.299999  30.820000   984000  30.820000\n",
       "1  2012-11-16  32.000000  30.590000  31.150000  31.840000   908700  31.840000\n",
       "2  2012-11-19  33.250000  31.840000  32.070000  32.919998  1392400  32.919998\n",
       "3  2012-11-20  33.099998  31.910000  32.799999  33.000000   922500  33.000000\n",
       "4  2012-11-21  33.470001  32.290001  32.610001  32.470001   963200  32.470001"
      ]
     },
     "execution_count": 89,
     "metadata": {},
     "output_type": "execute_result"
    }
   ],
   "source": [
    "tesla.head()"
   ]
  },
  {
   "cell_type": "code",
   "execution_count": 90,
   "metadata": {},
   "outputs": [
    {
     "name": "stdout",
     "output_type": "stream",
     "text": [
      "<class 'pandas.core.frame.DataFrame'>\n",
      "RangeIndex: 3218 entries, 0 to 3217\n",
      "Data columns (total 5 columns):\n",
      "row ID          3218 non-null object\n",
      "Tweet           3218 non-null object\n",
      "Time            3218 non-null object\n",
      "Retweet from    525 non-null object\n",
      "User            3218 non-null object\n",
      "dtypes: object(5)\n",
      "memory usage: 125.8+ KB\n"
     ]
    }
   ],
   "source": [
    "twitter.info()"
   ]
  },
  {
   "cell_type": "code",
   "execution_count": 91,
   "metadata": {},
   "outputs": [
    {
     "name": "stdout",
     "output_type": "stream",
     "text": [
      "<class 'pandas.core.frame.DataFrame'>\n",
      "RangeIndex: 3218 entries, 0 to 3217\n",
      "Data columns (total 5 columns):\n",
      "row ID          3218 non-null object\n",
      "Tweet           3218 non-null object\n",
      "Time            3218 non-null datetime64[ns]\n",
      "Retweet from    525 non-null object\n",
      "User            3218 non-null object\n",
      "dtypes: datetime64[ns](1), object(4)\n",
      "memory usage: 125.8+ KB\n"
     ]
    }
   ],
   "source": [
    "twitter['Time'] = pd.to_datetime(twitter['Time'])\n",
    "twitter.info()"
   ]
  },
  {
   "cell_type": "code",
   "execution_count": 92,
   "metadata": {},
   "outputs": [
    {
     "name": "stdout",
     "output_type": "stream",
     "text": [
      "  row ID                                              Tweet  \\\n",
      "0   Row0  @MeltingIce Assuming max acceleration of 2 to ...   \n",
      "1   Row1  RT @SpaceX: BFR is capable of transporting sat...   \n",
      "2   Row2                                     @bigajm Yup :)   \n",
      "3   Row3                     Part 2 https://t.co/8Fvu57muhM   \n",
      "4   Row4  Fly to most places on Earth in under 30 mins a...   \n",
      "\n",
      "                 Time Retweet from      User       Date  \n",
      "0 2017-09-29 17:39:19          NaN  elonmusk 2017-09-29  \n",
      "1 2017-09-29 10:44:54       SpaceX  elonmusk 2017-09-29  \n",
      "2 2017-09-29 10:39:57          NaN  elonmusk 2017-09-29  \n",
      "3 2017-09-29 09:56:12          NaN  elonmusk 2017-09-29  \n",
      "4 2017-09-29 09:19:21          NaN  elonmusk 2017-09-29  \n"
     ]
    }
   ],
   "source": [
    "twitter['Date'] = twitter['Time'].dt.date\n",
    "twitter['Date'] = pd.to_datetime(twitter['Date'])\n",
    "print(twitter.head())"
   ]
  },
  {
   "cell_type": "code",
   "execution_count": 93,
   "metadata": {},
   "outputs": [
    {
     "name": "stdout",
     "output_type": "stream",
     "text": [
      "<class 'pandas.core.frame.DataFrame'>\n",
      "RangeIndex: 1227 entries, 0 to 1226\n",
      "Data columns (total 7 columns):\n",
      "Date         1227 non-null object\n",
      "High         1227 non-null float64\n",
      "Low          1227 non-null float64\n",
      "Open         1227 non-null float64\n",
      "Close        1227 non-null float64\n",
      "Volume       1227 non-null int64\n",
      "Adj Close    1227 non-null float64\n",
      "dtypes: float64(5), int64(1), object(1)\n",
      "memory usage: 67.2+ KB\n"
     ]
    }
   ],
   "source": [
    "tesla.info()"
   ]
  },
  {
   "cell_type": "code",
   "execution_count": 94,
   "metadata": {},
   "outputs": [
    {
     "name": "stdout",
     "output_type": "stream",
     "text": [
      "<class 'pandas.core.frame.DataFrame'>\n",
      "RangeIndex: 1227 entries, 0 to 1226\n",
      "Data columns (total 7 columns):\n",
      "Date         1227 non-null datetime64[ns]\n",
      "High         1227 non-null float64\n",
      "Low          1227 non-null float64\n",
      "Open         1227 non-null float64\n",
      "Close        1227 non-null float64\n",
      "Volume       1227 non-null int64\n",
      "Adj Close    1227 non-null float64\n",
      "dtypes: datetime64[ns](1), float64(5), int64(1)\n",
      "memory usage: 67.2 KB\n",
      "None\n"
     ]
    }
   ],
   "source": [
    "tesla['Date'] = pd.to_datetime(tesla['Date'])\n",
    "print(tesla.info())"
   ]
  },
  {
   "cell_type": "code",
   "execution_count": 95,
   "metadata": {},
   "outputs": [
    {
     "data": {
      "text/html": [
       "<div>\n",
       "<style scoped>\n",
       "    .dataframe tbody tr th:only-of-type {\n",
       "        vertical-align: middle;\n",
       "    }\n",
       "\n",
       "    .dataframe tbody tr th {\n",
       "        vertical-align: top;\n",
       "    }\n",
       "\n",
       "    .dataframe thead th {\n",
       "        text-align: right;\n",
       "    }\n",
       "</style>\n",
       "<table border=\"1\" class=\"dataframe\">\n",
       "  <thead>\n",
       "    <tr style=\"text-align: right;\">\n",
       "      <th></th>\n",
       "      <th>row ID</th>\n",
       "      <th>Tweet</th>\n",
       "      <th>Time</th>\n",
       "      <th>Retweet from</th>\n",
       "      <th>User</th>\n",
       "      <th>Date</th>\n",
       "    </tr>\n",
       "  </thead>\n",
       "  <tbody>\n",
       "    <tr>\n",
       "      <th>0</th>\n",
       "      <td>Row0</td>\n",
       "      <td>@MeltingIce Assuming max acceleration of 2 to ...</td>\n",
       "      <td>2017-09-29 17:39:19</td>\n",
       "      <td>NaN</td>\n",
       "      <td>elonmusk</td>\n",
       "      <td>2017-09-29</td>\n",
       "    </tr>\n",
       "    <tr>\n",
       "      <th>1</th>\n",
       "      <td>Row1</td>\n",
       "      <td>RT @SpaceX: BFR is capable of transporting sat...</td>\n",
       "      <td>2017-09-29 10:44:54</td>\n",
       "      <td>SpaceX</td>\n",
       "      <td>elonmusk</td>\n",
       "      <td>2017-09-29</td>\n",
       "    </tr>\n",
       "    <tr>\n",
       "      <th>2</th>\n",
       "      <td>Row2</td>\n",
       "      <td>@bigajm Yup :)</td>\n",
       "      <td>2017-09-29 10:39:57</td>\n",
       "      <td>NaN</td>\n",
       "      <td>elonmusk</td>\n",
       "      <td>2017-09-29</td>\n",
       "    </tr>\n",
       "    <tr>\n",
       "      <th>3</th>\n",
       "      <td>Row3</td>\n",
       "      <td>Part 2 https://t.co/8Fvu57muhM</td>\n",
       "      <td>2017-09-29 09:56:12</td>\n",
       "      <td>NaN</td>\n",
       "      <td>elonmusk</td>\n",
       "      <td>2017-09-29</td>\n",
       "    </tr>\n",
       "    <tr>\n",
       "      <th>4</th>\n",
       "      <td>Row4</td>\n",
       "      <td>Fly to most places on Earth in under 30 mins a...</td>\n",
       "      <td>2017-09-29 09:19:21</td>\n",
       "      <td>NaN</td>\n",
       "      <td>elonmusk</td>\n",
       "      <td>2017-09-29</td>\n",
       "    </tr>\n",
       "  </tbody>\n",
       "</table>\n",
       "</div>"
      ],
      "text/plain": [
       "  row ID                                              Tweet  \\\n",
       "0   Row0  @MeltingIce Assuming max acceleration of 2 to ...   \n",
       "1   Row1  RT @SpaceX: BFR is capable of transporting sat...   \n",
       "2   Row2                                     @bigajm Yup :)   \n",
       "3   Row3                     Part 2 https://t.co/8Fvu57muhM   \n",
       "4   Row4  Fly to most places on Earth in under 30 mins a...   \n",
       "\n",
       "                 Time Retweet from      User       Date  \n",
       "0 2017-09-29 17:39:19          NaN  elonmusk 2017-09-29  \n",
       "1 2017-09-29 10:44:54       SpaceX  elonmusk 2017-09-29  \n",
       "2 2017-09-29 10:39:57          NaN  elonmusk 2017-09-29  \n",
       "3 2017-09-29 09:56:12          NaN  elonmusk 2017-09-29  \n",
       "4 2017-09-29 09:19:21          NaN  elonmusk 2017-09-29  "
      ]
     },
     "execution_count": 95,
     "metadata": {},
     "output_type": "execute_result"
    }
   ],
   "source": [
    "twitter.head()"
   ]
  },
  {
   "cell_type": "code",
   "execution_count": 96,
   "metadata": {},
   "outputs": [
    {
     "data": {
      "text/html": [
       "<div>\n",
       "<style scoped>\n",
       "    .dataframe tbody tr th:only-of-type {\n",
       "        vertical-align: middle;\n",
       "    }\n",
       "\n",
       "    .dataframe tbody tr th {\n",
       "        vertical-align: top;\n",
       "    }\n",
       "\n",
       "    .dataframe thead th {\n",
       "        text-align: right;\n",
       "    }\n",
       "</style>\n",
       "<table border=\"1\" class=\"dataframe\">\n",
       "  <thead>\n",
       "    <tr style=\"text-align: right;\">\n",
       "      <th></th>\n",
       "      <th>row ID</th>\n",
       "      <th>Tweet</th>\n",
       "      <th>Time</th>\n",
       "      <th>Retweet from</th>\n",
       "      <th>User</th>\n",
       "      <th>Date</th>\n",
       "    </tr>\n",
       "  </thead>\n",
       "  <tbody>\n",
       "    <tr>\n",
       "      <th>0</th>\n",
       "      <td>Row3217</td>\n",
       "      <td>RT @Jon_Favreau: My Model S just arrived and I...</td>\n",
       "      <td>2012-11-16 17:59:47</td>\n",
       "      <td>Jon_Favreau</td>\n",
       "      <td>elonmusk</td>\n",
       "      <td>2012-11-16</td>\n",
       "    </tr>\n",
       "    <tr>\n",
       "      <th>1</th>\n",
       "      <td>Row3216</td>\n",
       "      <td>Just returned from a trip to London and Oxford...</td>\n",
       "      <td>2012-11-19 08:59:46</td>\n",
       "      <td>NaN</td>\n",
       "      <td>elonmusk</td>\n",
       "      <td>2012-11-19</td>\n",
       "    </tr>\n",
       "    <tr>\n",
       "      <th>2</th>\n",
       "      <td>Row3214</td>\n",
       "      <td>These articles in Space News describe why Aria...</td>\n",
       "      <td>2012-11-20 08:38:31</td>\n",
       "      <td>NaN</td>\n",
       "      <td>elonmusk</td>\n",
       "      <td>2012-11-20</td>\n",
       "    </tr>\n",
       "    <tr>\n",
       "      <th>3</th>\n",
       "      <td>Row3211</td>\n",
       "      <td>Btw, I don't think Apple is doomed. Just won't...</td>\n",
       "      <td>2012-11-20 21:32:50</td>\n",
       "      <td>NaN</td>\n",
       "      <td>elonmusk</td>\n",
       "      <td>2012-11-20</td>\n",
       "    </tr>\n",
       "    <tr>\n",
       "      <th>4</th>\n",
       "      <td>Row3215</td>\n",
       "      <td>Was misquoted by BBC as saying Europe's rocket...</td>\n",
       "      <td>2012-11-20 08:30:44</td>\n",
       "      <td>NaN</td>\n",
       "      <td>elonmusk</td>\n",
       "      <td>2012-11-20</td>\n",
       "    </tr>\n",
       "  </tbody>\n",
       "</table>\n",
       "</div>"
      ],
      "text/plain": [
       "    row ID                                              Tweet  \\\n",
       "0  Row3217  RT @Jon_Favreau: My Model S just arrived and I...   \n",
       "1  Row3216  Just returned from a trip to London and Oxford...   \n",
       "2  Row3214  These articles in Space News describe why Aria...   \n",
       "3  Row3211  Btw, I don't think Apple is doomed. Just won't...   \n",
       "4  Row3215  Was misquoted by BBC as saying Europe's rocket...   \n",
       "\n",
       "                 Time Retweet from      User       Date  \n",
       "0 2012-11-16 17:59:47  Jon_Favreau  elonmusk 2012-11-16  \n",
       "1 2012-11-19 08:59:46          NaN  elonmusk 2012-11-19  \n",
       "2 2012-11-20 08:38:31          NaN  elonmusk 2012-11-20  \n",
       "3 2012-11-20 21:32:50          NaN  elonmusk 2012-11-20  \n",
       "4 2012-11-20 08:30:44          NaN  elonmusk 2012-11-20  "
      ]
     },
     "execution_count": 96,
     "metadata": {},
     "output_type": "execute_result"
    }
   ],
   "source": [
    "twitter.sort_values(by=['Date'], inplace=True, ascending=True)\n",
    "twitter.reset_index(drop=True, inplace=True)\n",
    "twitter.head()"
   ]
  },
  {
   "cell_type": "code",
   "execution_count": 97,
   "metadata": {},
   "outputs": [],
   "source": [
    "# drop unwanted columns\n",
    "twitter = twitter.drop(['row ID', 'Time', 'Retweet from', 'User'], axis=1)"
   ]
  },
  {
   "cell_type": "code",
   "execution_count": 98,
   "metadata": {},
   "outputs": [
    {
     "data": {
      "text/html": [
       "<div>\n",
       "<style scoped>\n",
       "    .dataframe tbody tr th:only-of-type {\n",
       "        vertical-align: middle;\n",
       "    }\n",
       "\n",
       "    .dataframe tbody tr th {\n",
       "        vertical-align: top;\n",
       "    }\n",
       "\n",
       "    .dataframe thead th {\n",
       "        text-align: right;\n",
       "    }\n",
       "</style>\n",
       "<table border=\"1\" class=\"dataframe\">\n",
       "  <thead>\n",
       "    <tr style=\"text-align: right;\">\n",
       "      <th></th>\n",
       "      <th>Tweet</th>\n",
       "      <th>Date</th>\n",
       "    </tr>\n",
       "  </thead>\n",
       "  <tbody>\n",
       "    <tr>\n",
       "      <th>0</th>\n",
       "      <td>RT @Jon_Favreau: My Model S just arrived and I...</td>\n",
       "      <td>2012-11-16</td>\n",
       "    </tr>\n",
       "    <tr>\n",
       "      <th>1</th>\n",
       "      <td>Just returned from a trip to London and Oxford...</td>\n",
       "      <td>2012-11-19</td>\n",
       "    </tr>\n",
       "    <tr>\n",
       "      <th>2</th>\n",
       "      <td>These articles in Space News describe why Aria...</td>\n",
       "      <td>2012-11-20</td>\n",
       "    </tr>\n",
       "    <tr>\n",
       "      <th>3</th>\n",
       "      <td>Btw, I don't think Apple is doomed. Just won't...</td>\n",
       "      <td>2012-11-20</td>\n",
       "    </tr>\n",
       "    <tr>\n",
       "      <th>4</th>\n",
       "      <td>Was misquoted by BBC as saying Europe's rocket...</td>\n",
       "      <td>2012-11-20</td>\n",
       "    </tr>\n",
       "  </tbody>\n",
       "</table>\n",
       "</div>"
      ],
      "text/plain": [
       "                                               Tweet       Date\n",
       "0  RT @Jon_Favreau: My Model S just arrived and I... 2012-11-16\n",
       "1  Just returned from a trip to London and Oxford... 2012-11-19\n",
       "2  These articles in Space News describe why Aria... 2012-11-20\n",
       "3  Btw, I don't think Apple is doomed. Just won't... 2012-11-20\n",
       "4  Was misquoted by BBC as saying Europe's rocket... 2012-11-20"
      ]
     },
     "execution_count": 98,
     "metadata": {},
     "output_type": "execute_result"
    }
   ],
   "source": [
    "twitter.head()"
   ]
  },
  {
   "cell_type": "code",
   "execution_count": 101,
   "metadata": {},
   "outputs": [],
   "source": [
    "# combining tweets with same date\n",
    "index=0\n",
    "\n",
    "for index, row in twitter.iterrows():\n",
    "    stre = row['Tweet']\n",
    "    \n",
    "    # removing special characters\n",
    "    new_string = re.sub('[^ a-zA-Z0-9]', '', stre)\n",
    "    \n",
    "    twitter.at[index, 'Date'] = row['Date']\n",
    "    twitter.at[index, 'Tweet'] = new_string\n",
    "    index = index + 1\n",
    "\n",
    "twitter = twitter.groupby(['Date'], as_index=False).agg({'Tweet': ''.join}, inplace=True)"
   ]
  },
  {
   "cell_type": "code",
   "execution_count": 102,
   "metadata": {},
   "outputs": [
    {
     "data": {
      "text/html": [
       "<div>\n",
       "<style scoped>\n",
       "    .dataframe tbody tr th:only-of-type {\n",
       "        vertical-align: middle;\n",
       "    }\n",
       "\n",
       "    .dataframe tbody tr th {\n",
       "        vertical-align: top;\n",
       "    }\n",
       "\n",
       "    .dataframe thead th {\n",
       "        text-align: right;\n",
       "    }\n",
       "</style>\n",
       "<table border=\"1\" class=\"dataframe\">\n",
       "  <thead>\n",
       "    <tr style=\"text-align: right;\">\n",
       "      <th></th>\n",
       "      <th>Date</th>\n",
       "      <th>Tweet</th>\n",
       "    </tr>\n",
       "  </thead>\n",
       "  <tbody>\n",
       "    <tr>\n",
       "      <th>0</th>\n",
       "      <td>2012-11-16</td>\n",
       "      <td>RT JonFavreau My Model S just arrived and I we...</td>\n",
       "    </tr>\n",
       "    <tr>\n",
       "      <th>1</th>\n",
       "      <td>2012-11-19</td>\n",
       "      <td>Just returned from a trip to London and Oxford...</td>\n",
       "    </tr>\n",
       "    <tr>\n",
       "      <th>2</th>\n",
       "      <td>2012-11-20</td>\n",
       "      <td>These articles in Space News describe why Aria...</td>\n",
       "    </tr>\n",
       "    <tr>\n",
       "      <th>3</th>\n",
       "      <td>2012-11-21</td>\n",
       "      <td>Love this picture of the Curiousity rover on M...</td>\n",
       "    </tr>\n",
       "    <tr>\n",
       "      <th>4</th>\n",
       "      <td>2012-11-22</td>\n",
       "      <td>Gave a talk on energy and transport at Oxford ...</td>\n",
       "    </tr>\n",
       "  </tbody>\n",
       "</table>\n",
       "</div>"
      ],
      "text/plain": [
       "        Date                                              Tweet\n",
       "0 2012-11-16  RT JonFavreau My Model S just arrived and I we...\n",
       "1 2012-11-19  Just returned from a trip to London and Oxford...\n",
       "2 2012-11-20  These articles in Space News describe why Aria...\n",
       "3 2012-11-21  Love this picture of the Curiousity rover on M...\n",
       "4 2012-11-22  Gave a talk on energy and transport at Oxford ..."
      ]
     },
     "execution_count": 102,
     "metadata": {},
     "output_type": "execute_result"
    }
   ],
   "source": [
    "twitter.head()"
   ]
  },
  {
   "cell_type": "code",
   "execution_count": 103,
   "metadata": {},
   "outputs": [],
   "source": [
    "twitter.to_csv('twitter_cleaned.csv')"
   ]
  },
  {
   "cell_type": "code",
   "execution_count": 104,
   "metadata": {},
   "outputs": [],
   "source": [
    "combined = twitter.merge(tesla, left_on='Date', right_on='Date')"
   ]
  },
  {
   "cell_type": "code",
   "execution_count": 105,
   "metadata": {},
   "outputs": [
    {
     "data": {
      "text/html": [
       "<div>\n",
       "<style scoped>\n",
       "    .dataframe tbody tr th:only-of-type {\n",
       "        vertical-align: middle;\n",
       "    }\n",
       "\n",
       "    .dataframe tbody tr th {\n",
       "        vertical-align: top;\n",
       "    }\n",
       "\n",
       "    .dataframe thead th {\n",
       "        text-align: right;\n",
       "    }\n",
       "</style>\n",
       "<table border=\"1\" class=\"dataframe\">\n",
       "  <thead>\n",
       "    <tr style=\"text-align: right;\">\n",
       "      <th></th>\n",
       "      <th>Date</th>\n",
       "      <th>Tweet</th>\n",
       "      <th>High</th>\n",
       "      <th>Low</th>\n",
       "      <th>Open</th>\n",
       "      <th>Close</th>\n",
       "      <th>Volume</th>\n",
       "      <th>Adj Close</th>\n",
       "    </tr>\n",
       "  </thead>\n",
       "  <tbody>\n",
       "    <tr>\n",
       "      <th>0</th>\n",
       "      <td>2012-11-16</td>\n",
       "      <td>RT JonFavreau My Model S just arrived and I we...</td>\n",
       "      <td>32.000000</td>\n",
       "      <td>30.590000</td>\n",
       "      <td>31.150000</td>\n",
       "      <td>31.840000</td>\n",
       "      <td>908700</td>\n",
       "      <td>31.840000</td>\n",
       "    </tr>\n",
       "    <tr>\n",
       "      <th>1</th>\n",
       "      <td>2012-11-19</td>\n",
       "      <td>Just returned from a trip to London and Oxford...</td>\n",
       "      <td>33.250000</td>\n",
       "      <td>31.840000</td>\n",
       "      <td>32.070000</td>\n",
       "      <td>32.919998</td>\n",
       "      <td>1392400</td>\n",
       "      <td>32.919998</td>\n",
       "    </tr>\n",
       "    <tr>\n",
       "      <th>2</th>\n",
       "      <td>2012-11-20</td>\n",
       "      <td>These articles in Space News describe why Aria...</td>\n",
       "      <td>33.099998</td>\n",
       "      <td>31.910000</td>\n",
       "      <td>32.799999</td>\n",
       "      <td>33.000000</td>\n",
       "      <td>922500</td>\n",
       "      <td>33.000000</td>\n",
       "    </tr>\n",
       "    <tr>\n",
       "      <th>3</th>\n",
       "      <td>2012-11-21</td>\n",
       "      <td>Love this picture of the Curiousity rover on M...</td>\n",
       "      <td>33.470001</td>\n",
       "      <td>32.290001</td>\n",
       "      <td>32.610001</td>\n",
       "      <td>32.470001</td>\n",
       "      <td>963200</td>\n",
       "      <td>32.470001</td>\n",
       "    </tr>\n",
       "    <tr>\n",
       "      <th>4</th>\n",
       "      <td>2012-11-23</td>\n",
       "      <td>Liam Neesons Lifes Too Short sketch is super f...</td>\n",
       "      <td>32.830002</td>\n",
       "      <td>31.700001</td>\n",
       "      <td>32.599998</td>\n",
       "      <td>32.130001</td>\n",
       "      <td>430300</td>\n",
       "      <td>32.130001</td>\n",
       "    </tr>\n",
       "  </tbody>\n",
       "</table>\n",
       "</div>"
      ],
      "text/plain": [
       "        Date                                              Tweet       High  \\\n",
       "0 2012-11-16  RT JonFavreau My Model S just arrived and I we...  32.000000   \n",
       "1 2012-11-19  Just returned from a trip to London and Oxford...  33.250000   \n",
       "2 2012-11-20  These articles in Space News describe why Aria...  33.099998   \n",
       "3 2012-11-21  Love this picture of the Curiousity rover on M...  33.470001   \n",
       "4 2012-11-23  Liam Neesons Lifes Too Short sketch is super f...  32.830002   \n",
       "\n",
       "         Low       Open      Close   Volume  Adj Close  \n",
       "0  30.590000  31.150000  31.840000   908700  31.840000  \n",
       "1  31.840000  32.070000  32.919998  1392400  32.919998  \n",
       "2  31.910000  32.799999  33.000000   922500  33.000000  \n",
       "3  32.290001  32.610001  32.470001   963200  32.470001  \n",
       "4  31.700001  32.599998  32.130001   430300  32.130001  "
      ]
     },
     "execution_count": 105,
     "metadata": {},
     "output_type": "execute_result"
    }
   ],
   "source": [
    "combined.head()"
   ]
  },
  {
   "cell_type": "code",
   "execution_count": 106,
   "metadata": {},
   "outputs": [],
   "source": [
    "combined.to_csv('combined_data.csv')"
   ]
  },
  {
   "cell_type": "code",
   "execution_count": null,
   "metadata": {},
   "outputs": [],
   "source": []
  }
 ],
 "metadata": {
  "kernelspec": {
   "display_name": "Python 3",
   "language": "python",
   "name": "python3"
  },
  "language_info": {
   "codemirror_mode": {
    "name": "ipython",
    "version": 3
   },
   "file_extension": ".py",
   "mimetype": "text/x-python",
   "name": "python",
   "nbconvert_exporter": "python",
   "pygments_lexer": "ipython3",
   "version": "3.7.3"
  }
 },
 "nbformat": 4,
 "nbformat_minor": 2
}
